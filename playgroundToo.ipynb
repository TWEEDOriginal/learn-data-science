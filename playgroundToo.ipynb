{
  "nbformat": 4,
  "nbformat_minor": 0,
  "metadata": {
    "colab": {
      "provenance": [],
      "authorship_tag": "ABX9TyOvEKBI8nLPPBEFILNtw/rY",
      "include_colab_link": true
    },
    "kernelspec": {
      "name": "python3",
      "display_name": "Python 3"
    },
    "language_info": {
      "name": "python"
    }
  },
  "cells": [
    {
      "cell_type": "markdown",
      "metadata": {
        "id": "view-in-github",
        "colab_type": "text"
      },
      "source": [
        "<a href=\"https://colab.research.google.com/github/TWEEDOriginal/learn-data-science/blob/main/playgroundToo.ipynb\" target=\"_parent\"><img src=\"https://colab.research.google.com/assets/colab-badge.svg\" alt=\"Open In Colab\"/></a>"
      ]
    },
    {
      "cell_type": "code",
      "execution_count": null,
      "metadata": {
        "colab": {
          "base_uri": "https://localhost:8080/"
        },
        "id": "9gulvJJYkH_p",
        "outputId": "d83fa1ce-a066-4104-e318-e5987fcaa3ce"
      },
      "outputs": [
        {
          "output_type": "stream",
          "name": "stdout",
          "text": [
            "True\n"
          ]
        }
      ],
      "source": [
        "import numpy as np\n",
        "import torch\n",
        "\n",
        "# Create a matrix\n",
        "A = np.array([[1, 2], [2, 1]])\n",
        "A_tensor = torch.tensor(A, dtype=torch.float32)\n",
        "\n",
        "# Compute eigenvalues and eigenvectors with NumPy\n",
        "np_eigenvalues, np_eigenvectors = np.linalg.eig(A)\n",
        "\n",
        "# Compute eigenvalues and eigenvectors with PyTorch\n",
        "torch_eigenvalues, torch_eigenvectors = torch.linalg.eig(A_tensor)\n",
        "\n",
        "# Check for sign consistency\n",
        "print(np.allclose(np.abs(np_eigenvectors), torch.abs(torch_eigenvectors)))"
      ]
    }
  ]
}